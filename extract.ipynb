{
 "cells": [
  {
   "cell_type": "code",
   "execution_count": 4,
   "metadata": {},
   "outputs": [],
   "source": [
    "from faker import Faker\n",
    "import random\n",
    "import csv\n",
    "from google.cloud import storage"
   ]
  },
  {
   "cell_type": "code",
   "execution_count": 2,
   "metadata": {},
   "outputs": [],
   "source": [
    "# Initialize Faker\n",
    "fake = Faker()\n",
    "\n",
    "# Function to generate fake stock data\n",
    "def generate_stock_data():\n",
    "    stock_data = {\n",
    "        \"symbol\": fake.bothify(text='???#:NASDAQ'),\n",
    "        \"type\": \"stock\",\n",
    "        \"name\": fake.company(),\n",
    "        \"price\": round(random.uniform(100, 300), 2),\n",
    "        \"change\": round(random.uniform(1, 50), 2),\n",
    "        \"change_percent\": round(random.uniform(0.1, 20), 4),\n",
    "        \"previous_close\": round(random.uniform(100, 300), 2),\n",
    "        \"pre_or_post_market\": round(random.uniform(100, 300), 2),\n",
    "        \"pre_or_post_market_change\": round(random.uniform(0, 10), 2),\n",
    "        \"pre_or_post_market_change_percent\": round(random.uniform(0, 2), 4),\n",
    "        \"last_update_utc\": fake.date_time_this_year().isoformat(),\n",
    "        \"currency\": \"USD\",\n",
    "        \"exchange\": \"NASDAQ\",\n",
    "        \"exchange_open\": \"2023-03-13 09:30:00\",\n",
    "        \"exchange_close\": \"2023-03-13 16:00:00\",\n",
    "        \"timezone\": \"America/New_York\",\n",
    "        \"utc_offset_sec\": -14400,\n",
    "        \"country_code\": \"US\",\n",
    "        \"google_mid\": fake.bothify(text='/m/#######')\n",
    "    }\n",
    "    return stock_data\n",
    "\n",
    "# Generate fake stock data for 10 stocks\n",
    "stocks = [generate_stock_data() for _ in range(10)]\n",
    "\n"
   ]
  },
  {
   "cell_type": "code",
   "execution_count": 3,
   "metadata": {},
   "outputs": [
    {
     "name": "stdout",
     "output_type": "stream",
     "text": [
      "Data written to stock_data.csv\n"
     ]
    }
   ],
   "source": [
    "\n",
    "# CSV file name\n",
    "csv_file_name = 'stock_data.csv'\n",
    "\n",
    "# Write data to CSV\n",
    "with open(csv_file_name, mode='w', newline='') as file:\n",
    "    writer = csv.DictWriter(file, fieldnames=stocks[0].keys())\n",
    "    writer.writeheader()\n",
    "    writer.writerows(stocks)\n",
    "\n",
    "print(f\"Data written to {csv_file_name}\")"
   ]
  },
  {
   "cell_type": "code",
   "execution_count": 4,
   "metadata": {},
   "outputs": [],
   "source": [
    "# Function to create a GCS bucket\n",
    "def create_bucket(bucket_name, project_id, location='US'):\n",
    "    storage_client = storage.Client(project=project_id)\n",
    "    bucket = storage_client.bucket(bucket_name)\n",
    "    new_bucket = storage_client.create_bucket(bucket, location=location)\n",
    "    print(f'Bucket {new_bucket.name} created in {new_bucket.location} with storage class {new_bucket.storage_class}')\n",
    "\n",
    "# Function to upload the CSV file to a GCS bucket\n",
    "def upload_to_gcs(bucket_name, source_file_name, destination_blob_name, project_id):\n",
    "    storage_client = storage.Client(project=project_id)\n",
    "    bucket = storage_client.bucket(bucket_name)\n",
    "    blob = bucket.blob(destination_blob_name)\n",
    "\n",
    "    blob.upload_from_filename(source_file_name)\n",
    "\n",
    "    print(f'File {source_file_name} uploaded to {destination_blob_name} in {bucket_name}.')"
   ]
  },
  {
   "cell_type": "code",
   "execution_count": 6,
   "metadata": {},
   "outputs": [
    {
     "name": "stdout",
     "output_type": "stream",
     "text": [
      "Bucket bucket-datapipeline created in US with storage class STANDARD\n",
      "File stock_data.csv uploaded to stock_data_del.csv in bucket-datapipeline.\n"
     ]
    }
   ],
   "source": [
    "# Set your GCS bucket name, source file name, destination file name, and project ID\n",
    "bucket_name = 'bucket-datapipeline'\n",
    "destination_blob_name = 'stock_data_del.csv'\n",
    "project_id = 'testdatapipeline-425000'\n",
    "\n",
    "# Create the bucket (uncomment if the bucket does not exist)\n",
    "create_bucket(bucket_name, project_id)\n",
    "\n",
    "# Upload the CSV file to GCS\n",
    "upload_to_gcs(bucket_name, csv_file_name, destination_blob_name, project_id)"
   ]
  }
 ],
 "metadata": {
  "kernelspec": {
   "display_name": "Python 3",
   "language": "python",
   "name": "python3"
  },
  "language_info": {
   "codemirror_mode": {
    "name": "ipython",
    "version": 3
   },
   "file_extension": ".py",
   "mimetype": "text/x-python",
   "name": "python",
   "nbconvert_exporter": "python",
   "pygments_lexer": "ipython3",
   "version": "3.12.0"
  }
 },
 "nbformat": 4,
 "nbformat_minor": 2
}
